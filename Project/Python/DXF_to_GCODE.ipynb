{
 "cells": [
  {
   "cell_type": "markdown",
   "metadata": {},
   "source": [
    "# Library Imports"
   ]
  },
  {
   "cell_type": "code",
   "execution_count": 1,
   "metadata": {},
   "outputs": [],
   "source": [
    "import ezdxf\n",
    "import matplotlib.pyplot as plt\n",
    "from ezdxf.addons.drawing.matplotlib_backend import MatplotlibBackend\n",
    "from ezdxf.addons.drawing import RenderContext, Frontend\n",
    "from ezdxf.groupby import groupby\n",
    "from pygcode import *"
   ]
  },
  {
   "cell_type": "markdown",
   "metadata": {},
   "source": [
    "# Import DXF File and Create Image"
   ]
  },
  {
   "cell_type": "code",
   "execution_count": 2,
   "metadata": {},
   "outputs": [],
   "source": [
    "def get_dxf(file_loc):\n",
    "    doc = ezdxf.readfile(file_loc)\n",
    "    msp = doc.modelspace()\n",
    "    group = groupby(entities=msp, dxfattrib='layer')\n",
    "    \n",
    "    layout = doc.layouts.get('Model')\n",
    "    fig = plt.figure()\n",
    "    ax = fig.add_axes([0, 0, 1, 1])\n",
    "    ctx = RenderContext(doc)\n",
    "    out = MatplotlibBackend(ax)\n",
    "    Frontend(ctx, out).draw_layout(layout, finalize=True)\n",
    "    out.finalize()\n",
    "    fig.savefig('Images/Outputs/dxf_output.png', dpi=600)\n",
    "    \n",
    "    return fig, doc, msp, group"
   ]
  },
  {
   "cell_type": "code",
   "execution_count": 3,
   "metadata": {},
   "outputs": [],
   "source": [
    "#fig, doc, msp, group = get_dxf(\"DXF/frame.dxf\")"
   ]
  },
  {
   "cell_type": "markdown",
   "metadata": {},
   "source": [
    "# Print DXF Entities"
   ]
  },
  {
   "cell_type": "code",
   "execution_count": 4,
   "metadata": {},
   "outputs": [],
   "source": [
    "def print_line(e):\n",
    "    print(\"LINE:\")\n",
    "    print(\"start point: %s\" % e.dxf.start)\n",
    "    print(\"end point: %s\\n\" % e.dxf.end)"
   ]
  },
  {
   "cell_type": "code",
   "execution_count": 5,
   "metadata": {},
   "outputs": [],
   "source": [
    "def print_arc(e):\n",
    "    print(\"ARC:\")\n",
    "    print(\"start point: %s\" % e.start_point)\n",
    "    print(\"end point: %s\" % e.end_point)\n",
    "    print(\"start angle: %s\" % e.dxf.start_angle)\n",
    "    print(\"end angle: %s\" % e.dxf.end_angle)\n",
    "    print(\"radius: %s\\n\" % e.dxf.radius)"
   ]
  },
  {
   "cell_type": "code",
   "execution_count": 6,
   "metadata": {},
   "outputs": [],
   "source": [
    "def print_circle(e):\n",
    "    print(\"Circle:\")\n",
    "    print(\"centre point: %s\" % e.dxf.center)\n",
    "    print(\"radius: %s\\n\" % e.dxf.radius)"
   ]
  },
  {
   "cell_type": "code",
   "execution_count": 7,
   "metadata": {},
   "outputs": [],
   "source": [
    "def print_poly(e):\n",
    "    print(\"POLYLINE:\")\n",
    "    print(\"THIS POLYLINE CONTAINS:\\n\")\n",
    "    for entity in e.virtual_entities():\n",
    "        if entity.dxftype() == 'LINE':\n",
    "            print_line(entity)\n",
    "        elif entity.dxftype() == 'ARC':\n",
    "            print_arc(entity)\n",
    "    print('-'*40)"
   ]
  },
  {
   "cell_type": "code",
   "execution_count": 8,
   "metadata": {},
   "outputs": [],
   "source": [
    "def list_entities(group):\n",
    "    for layer, entities in group.items():\n",
    "        print(f'Layer \"{layer}\" contains following entities:')\n",
    "        for entity in entities:\n",
    "            print('    {}'.format(str(entity)))\n",
    "        print('-'*40)"
   ]
  },
  {
   "cell_type": "code",
   "execution_count": 9,
   "metadata": {},
   "outputs": [],
   "source": [
    "#list_entities(group)"
   ]
  },
  {
   "cell_type": "code",
   "execution_count": 10,
   "metadata": {},
   "outputs": [],
   "source": [
    "def print_all_info(msp):\n",
    "    for e in msp:\n",
    "        if e.dxftype() == 'LINE':\n",
    "            print_line(e)\n",
    "        elif e.dxftype() == 'ARC':\n",
    "            print_arc(e)\n",
    "        elif e.dxftype() == 'CIRCLE':\n",
    "            print_circle(e)\n",
    "        elif e.dxftype() == 'POLYLINE':\n",
    "            print_poly(e)"
   ]
  },
  {
   "cell_type": "code",
   "execution_count": 11,
   "metadata": {},
   "outputs": [],
   "source": [
    "#print_all_info(msp)"
   ]
  },
  {
   "cell_type": "markdown",
   "metadata": {},
   "source": [
    "# Convert Entities to GCODE"
   ]
  },
  {
   "cell_type": "code",
   "execution_count": 12,
   "metadata": {},
   "outputs": [],
   "source": [
    "def line_to_gcode(e):\n",
    "    x_start = e.dxf.start[0]\n",
    "    y_start = e.dxf.start[1]\n",
    "    x_end = e.dxf.end[0]\n",
    "    y_end = e.dxf.end[1]\n",
    "    gcode = [\n",
    "        GCodeRapidMove(X=x_start,Y=y_start),\n",
    "        GCodeLinearMove(X=x_end,Y=y_end),\n",
    "    ]\n",
    "    return gcode"
   ]
  },
  {
   "cell_type": "code",
   "execution_count": 13,
   "metadata": {},
   "outputs": [],
   "source": [
    "def arc_to_gcode(e):\n",
    "    x_start = str(e.start_point[0])\n",
    "    y_start = str(e.start_point[1])\n",
    "    a_start = str(e.dxf.start_angle)\n",
    "    a_end = str(e.dxf.end_angle)\n",
    "    radius = str(e.dxf.radius)\n",
    "    gcode = [\n",
    "        \"G03 R \" + radius + \" X\" + x_start + \" Y\" + y_start + \" S\" + a_start + \" E\" + a_end,\n",
    "    ]\n",
    "    return gcode"
   ]
  },
  {
   "cell_type": "code",
   "execution_count": 14,
   "metadata": {},
   "outputs": [],
   "source": [
    "def circle_to_gcode(e):\n",
    "    x_center = e.dxf.center[0]\n",
    "    y_center = e.dxf.center[1]\n",
    "    radius = e.dxf.radius\n",
    "    \n",
    "    x_start = x_center\n",
    "    y1_start = x_center - radius\n",
    "    y2_start = y_center + radius\n",
    "    \n",
    "    gcode = [\n",
    "        GCodeRapidMove(X=x_start,Y=y1_start),\n",
    "        \"G03 R \" + str(radius) + \" X\" + str(x_start) + \" Y\" + str(y1_start) + \" S-90\" +\" E90\",\n",
    "        \"G03 R \" + str(radius) + \" X\" + str(x_start) + \" Y\" + str(y2_start) + \" S90\" +\" E270\",\n",
    "    ]\n",
    "    return gcode"
   ]
  },
  {
   "cell_type": "code",
   "execution_count": 15,
   "metadata": {},
   "outputs": [],
   "source": [
    "def poly_to_gcode(e):\n",
    "    gcodes =[]\n",
    "    for entity in e.virtual_entities():\n",
    "        if entity.dxftype() == 'LINE':\n",
    "            gcode = line_to_gcode(entity)\n",
    "            for g in gcode:\n",
    "                gcodes.append(str(g))\n",
    "        if entity.dxftype() == 'ARC':\n",
    "            gcode = arc_to_gcode(entity)\n",
    "            for g in gcode:\n",
    "                gcodes.append(str(g))\n",
    "    return gcodes"
   ]
  },
  {
   "cell_type": "markdown",
   "metadata": {},
   "source": [
    "# Ouput all GCODE to file"
   ]
  },
  {
   "cell_type": "code",
   "execution_count": 16,
   "metadata": {},
   "outputs": [],
   "source": [
    "def output_all_info(msp, filename):\n",
    "    all_instructions = []\n",
    "    gcodes = []\n",
    "    for e in msp:\n",
    "        if e.dxftype() == 'LINE':\n",
    "            gcode = line_to_gcode(e)\n",
    "            for g in gcode:\n",
    "                all_instructions.append(str(g))\n",
    "        if e.dxftype() == 'ARC':\n",
    "            gcode = arc_to_gcode(e)\n",
    "            for g in gcode:\n",
    "                all_instructions.append(str(g))\n",
    "        if e.dxftype() == 'CIRCLE':\n",
    "            gcode = circle_to_gcode(e)\n",
    "            for g in gcode:\n",
    "                all_instructions.append(str(g))\n",
    "        if e.dxftype() == 'POLYLINE':\n",
    "            gcodes = poly_to_gcode(e)\n",
    "            all_instructions.extend(gcodes)\n",
    "    \n",
    "    File_object = open(filename,\"w\")\n",
    "    for gcode in all_instructions:\n",
    "        print(gcode)\n",
    "        File_object.write(gcode + \";\\n\")\n",
    "    File_object.close()"
   ]
  },
  {
   "cell_type": "code",
   "execution_count": 17,
   "metadata": {
    "scrolled": true
   },
   "outputs": [],
   "source": [
    "#output_all_info(msp, \"output3.gcode\")"
   ]
  },
  {
   "cell_type": "code",
   "execution_count": null,
   "metadata": {},
   "outputs": [],
   "source": []
  },
  {
   "cell_type": "code",
   "execution_count": null,
   "metadata": {},
   "outputs": [],
   "source": []
  }
 ],
 "metadata": {
  "kernelspec": {
   "display_name": "Python 3",
   "language": "python",
   "name": "python3"
  },
  "language_info": {
   "codemirror_mode": {
    "name": "ipython",
    "version": 3
   },
   "file_extension": ".py",
   "mimetype": "text/x-python",
   "name": "python",
   "nbconvert_exporter": "python",
   "pygments_lexer": "ipython3",
   "version": "3.7.4"
  }
 },
 "nbformat": 4,
 "nbformat_minor": 4
}
