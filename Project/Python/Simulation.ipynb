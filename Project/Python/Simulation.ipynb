{
 "cells": [
  {
   "cell_type": "code",
   "execution_count": 1,
   "metadata": {},
   "outputs": [],
   "source": [
    "from turtle import *\n",
    "import re\n",
    "from pygcode import *\n",
    "import gc"
   ]
  },
  {
   "cell_type": "code",
   "execution_count": 2,
   "metadata": {},
   "outputs": [],
   "source": [
    "#Global variables used for storing home location and whether an emergency stop should be performed\n",
    "x_home = 0\n",
    "y_home = 0\n",
    "stop = False"
   ]
  },
  {
   "cell_type": "code",
   "execution_count": 3,
   "metadata": {},
   "outputs": [],
   "source": [
    "#A function to change the value of the global stop variable\n",
    "def set_stop(bool_stop):\n",
    "    global stop \n",
    "    stop = bool_stop"
   ]
  },
  {
   "cell_type": "code",
   "execution_count": 4,
   "metadata": {},
   "outputs": [],
   "source": [
    "#Creates the turtle object\n",
    "def create_turtle():\n",
    "    t = Turtle()\n",
    "    return t"
   ]
  },
  {
   "cell_type": "code",
   "execution_count": 5,
   "metadata": {},
   "outputs": [],
   "source": [
    "#Basic setup for the turtle environment\n",
    "def setup_turtle(t, title):\n",
    "    s = t.getscreen()\n",
    "    s.title(title)\n",
    "    s.setup(width = 1.0, height = 1.0)\n",
    "    canvas = s.getcanvas()\n",
    "    root = canvas.winfo_toplevel()\n",
    "    root.overrideredirect(1)\n",
    "    \n",
    "    t.hideturtle()\n",
    "    t.penup()\n",
    "    t.shape(\"classic\")\n",
    "    t.showturtle()\n",
    "    t.speed(10)"
   ]
  },
  {
   "cell_type": "code",
   "execution_count": 6,
   "metadata": {},
   "outputs": [],
   "source": [
    "#Provides a method for closing the environment on click\n",
    "def close_on_click(t):\n",
    "    t.getscreen().exitonclick()"
   ]
  },
  {
   "cell_type": "code",
   "execution_count": 7,
   "metadata": {},
   "outputs": [],
   "source": [
    "#Provides a method for closing the environment on demand\n",
    "def close_sim(t):\n",
    "    t.getscreen().bye()"
   ]
  },
  {
   "cell_type": "code",
   "execution_count": 8,
   "metadata": {},
   "outputs": [],
   "source": [
    "#Reopens the environment with a new turtle object\n",
    "def resurrect_environment(title):\n",
    "    Turtle._screen = None\n",
    "    TurtleScreen._RUNNING = True\n",
    "    t = create_turtle()\n",
    "    setup_turtle(t, title)\n",
    "    return t"
   ]
  },
  {
   "cell_type": "code",
   "execution_count": 9,
   "metadata": {},
   "outputs": [],
   "source": [
    "#A function to change the value of the global home variables\n",
    "def set_home(t, x, y):\n",
    "    global x_home\n",
    "    global y_home\n",
    "    t.showturtle()\n",
    "    t.setposition(x, y)"
   ]
  },
  {
   "cell_type": "code",
   "execution_count": 10,
   "metadata": {},
   "outputs": [],
   "source": [
    "#t1 = create_turtle()\n",
    "#setup_turtle(t1, \"Calibrate marker\")"
   ]
  },
  {
   "cell_type": "code",
   "execution_count": 11,
   "metadata": {},
   "outputs": [],
   "source": [
    "#set_home(t1, -750, -400)\n",
    "#close_on_click(t1)"
   ]
  },
  {
   "cell_type": "code",
   "execution_count": 12,
   "metadata": {},
   "outputs": [],
   "source": [
    "#close_sim(t1)"
   ]
  },
  {
   "cell_type": "code",
   "execution_count": 13,
   "metadata": {},
   "outputs": [],
   "source": [
    "#Moves the turtle to specified co-ordinates without drawing a line\n",
    "def move_pos(t, x, y, scale):\n",
    "    t.penup()\n",
    "    t.setposition((x * scale) + x_home, (y*scale) + y_home)"
   ]
  },
  {
   "cell_type": "code",
   "execution_count": 14,
   "metadata": {},
   "outputs": [],
   "source": [
    "#Moves the turtle to specified co-ordinates while drawing a line\n",
    "def draw_line(t, x, y, scale):\n",
    "    t.pendown()\n",
    "    t.setposition((x * scale) + x_home, (y*scale) + y_home)"
   ]
  },
  {
   "cell_type": "code",
   "execution_count": 15,
   "metadata": {},
   "outputs": [],
   "source": [
    "#Moves the turtle along a specific arced path while drawing a line\n",
    "def draw_arc(t, x, y, r, start, end, scale):\n",
    "    x_real = (x * scale) + x_home\n",
    "    y_real = (y * scale) + y_home\n",
    "    r_real = r * scale\n",
    "    extent = end-start\n",
    "    while extent < 0:\n",
    "        extent += 360\n",
    "    print(x_real, y_real)\n",
    "    \n",
    "    t.penup()\n",
    "    t.setposition(x_real, y_real)\n",
    "    t.pendown()\n",
    "    t.setheading(start)\n",
    "    t.circle(r_real, extent)"
   ]
  },
  {
   "cell_type": "code",
   "execution_count": 16,
   "metadata": {},
   "outputs": [],
   "source": [
    "#Converts the gcode read from a specified file into variables which can be used to move the turtle\n",
    "def convert_gcode(t, gcode, scale):\n",
    "    global stop\n",
    "    with open(gcode, 'r') as fh:\n",
    "        for line_text in fh.readlines():\n",
    "            if stop == False:\n",
    "                line = Line(line_text)\n",
    "\n",
    "                print(line)  # will print the line (with cosmetic changes)\n",
    "\n",
    "                x_substring = float(re.search(\"X(.*?) \", str(line)).group(1))\n",
    "                y_substring = float(re.search(\"Y(.*?) \", str(line)).group(1))\n",
    "\n",
    "                print(x_substring)\n",
    "                print(y_substring)\n",
    "\n",
    "                if str(line)[0:3] == \"G00\":\n",
    "                    print(\"G00\")\n",
    "                    move_pos(t, x_substring, y_substring, scale)\n",
    "                elif str(line)[0:3] == \"G01\":\n",
    "                    print(\"G01\")\n",
    "                    draw_line(t, x_substring, y_substring, scale)\n",
    "                elif str(line)[0:3] == \"G03\":\n",
    "                    print(\"G03\")\n",
    "                    r = float(re.search(\"R(.*?) \", str(line)).group(1))\n",
    "                    start = float(re.search(\"S(.*?) \", str(line)).group(1))+90\n",
    "                    end = float(re.search(\"E(.*?) \", str(line)).group(1))+90\n",
    "                    draw_arc(t, x_substring, y_substring, r, start, end, scale)\n",
    "                else:\n",
    "                    print(\"Please enter valid instructions.\")\n",
    "\n",
    "                print('-'*40)  # will print the line (with cosmetic changes)\n",
    "            else:\n",
    "                stop = False\n",
    "                close_sim(t)\n",
    "    close_on_click(t)\n",
    "    return True"
   ]
  },
  {
   "cell_type": "code",
   "execution_count": 17,
   "metadata": {},
   "outputs": [],
   "source": [
    "#draw_arc(t, 3.516934, 2.6563950000000003, 0.119156, 270.0, 315.0)"
   ]
  },
  {
   "cell_type": "code",
   "execution_count": 20,
   "metadata": {},
   "outputs": [],
   "source": [
    "#t1 = create_turtle()\n",
    "#set_home(t1, -750, -400)\n",
    "#close_sim(t1)\n",
    "#t1 = resurrect_environment(\"Click screen when finished to exit\")\n",
    "#convert_gcode(t1, \"output.gcode\", 1)"
   ]
  },
  {
   "cell_type": "code",
   "execution_count": 21,
   "metadata": {},
   "outputs": [],
   "source": [
    "#t1 = resurrect_environment(\"Click screen when finished to exit\")\n",
    "#convert_gcode(t1, \"output2.gcode\", 1, 2000, 1200)"
   ]
  },
  {
   "cell_type": "code",
   "execution_count": 22,
   "metadata": {},
   "outputs": [],
   "source": [
    "#t1 = resurrect_environment(\"Click screen when finished to exit\")\n",
    "#convert_gcode(t1, \"output4.gcode\", 1, 2000, 1200)"
   ]
  }
 ],
 "metadata": {
  "kernelspec": {
   "display_name": "Python 3",
   "language": "python",
   "name": "python3"
  },
  "language_info": {
   "codemirror_mode": {
    "name": "ipython",
    "version": 3
   },
   "file_extension": ".py",
   "mimetype": "text/x-python",
   "name": "python",
   "nbconvert_exporter": "python",
   "pygments_lexer": "ipython3",
   "version": "3.7.6"
  }
 },
 "nbformat": 4,
 "nbformat_minor": 4
}
