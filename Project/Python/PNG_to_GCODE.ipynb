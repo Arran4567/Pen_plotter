{
 "cells": [
  {
   "cell_type": "markdown",
   "metadata": {},
   "source": [
    "# Library Imports"
   ]
  },
  {
   "cell_type": "code",
   "execution_count": 1,
   "metadata": {},
   "outputs": [],
   "source": [
    "import os\n",
    "import sys\n",
    "import skimage \n",
    "import numpy as np\n",
    "import matplotlib.pyplot as plt\n",
    "from pygcode import *\n",
    "from skimage import measure\n",
    "from skimage import io\n",
    "from skimage import data\n",
    "from skimage.color import rgb2gray\n",
    "from PIL import Image"
   ]
  },
  {
   "cell_type": "markdown",
   "metadata": {},
   "source": [
    "# Import PNG file"
   ]
  },
  {
   "cell_type": "code",
   "execution_count": 2,
   "metadata": {},
   "outputs": [],
   "source": [
    "class Contour:\n",
    "    def __init__(self, start_row, start_col, end_row, end_col):\n",
    "        self.start_row = start_row\n",
    "        self.start_col = start_col\n",
    "        self.end_row = end_row\n",
    "        self.end_col = end_col\n",
    "        \n",
    "    def get_start(self):\n",
    "        return self.start_row, self.start_col\n",
    "    \n",
    "    def get_end(self):\n",
    "        return self.end_row, self.end_col\n",
    "        \n",
    "    def set_start(self, r, c):\n",
    "        self.start_row = r\n",
    "        self.start_col = c\n",
    "    \n",
    "    def set_end(self, r, c):\n",
    "        self.end_row = r\n",
    "        self.end_col = c"
   ]
  },
  {
   "cell_type": "code",
   "execution_count": 3,
   "metadata": {},
   "outputs": [],
   "source": [
    "class Square:\n",
    "    def __init__(self, top_left, contours):\n",
    "        self.case = case\n",
    "        self.top_left = top_left\n",
    "        self.contours = contours"
   ]
  },
  {
   "cell_type": "code",
   "execution_count": 4,
   "metadata": {},
   "outputs": [],
   "source": [
    "def import_image(path):\n",
    "    file = os.path.join(path)\n",
    "    img = \"\"\n",
    "    try:\n",
    "        img = io.imread(file)\n",
    "    except:\n",
    "        print(\"File not found\")\n",
    "    return img"
   ]
  },
  {
   "cell_type": "code",
   "execution_count": 5,
   "metadata": {
    "scrolled": true
   },
   "outputs": [],
   "source": [
    "#image = import_image(\"Images/dog.jpg\")"
   ]
  },
  {
   "cell_type": "markdown",
   "metadata": {},
   "source": [
    "# Grayscale Image"
   ]
  },
  {
   "cell_type": "code",
   "execution_count": 6,
   "metadata": {},
   "outputs": [],
   "source": [
    "def img_to_gray(original):\n",
    "    grayscale = rgb2gray(original)\n",
    "    fig, axes = plt.subplots(1, 1, figsize=(4, 4))\n",
    "\n",
    "    axes.imshow(grayscale, cmap=plt.cm.gray)\n",
    "    \n",
    "    fig.tight_layout()\n",
    "    return grayscale"
   ]
  },
  {
   "cell_type": "code",
   "execution_count": 7,
   "metadata": {
    "scrolled": true
   },
   "outputs": [],
   "source": [
    "#gray_img = img_to_gray(import_image(\"Images/dog.jpg\"))"
   ]
  },
  {
   "cell_type": "markdown",
   "metadata": {},
   "source": [
    "# Find Contours"
   ]
  },
  {
   "cell_type": "code",
   "execution_count": 8,
   "metadata": {},
   "outputs": [],
   "source": [
    "def find_contours(image, accuracy):\n",
    "    img = np.flipud(image)\n",
    "    \n",
    "    # Find contours at a constant value defined by parameter accuracy\n",
    "    contours = measure.find_contours(img, accuracy)\n",
    "    \n",
    "    # Display the image and plot all contours found\n",
    "    fig, ax = plt.subplots()\n",
    "\n",
    "    for n, contour in enumerate(contours):\n",
    "        ax.plot(contour[:, 1], contour[:, 0], linewidth=1)\n",
    "\n",
    "    ax.axis('image')\n",
    "    plt.show()\n",
    "    print(contours)\n",
    "    return contours"
   ]
  },
  {
   "cell_type": "code",
   "execution_count": 9,
   "metadata": {},
   "outputs": [],
   "source": [
    "#contours = find_contours(gray_img, .3)\n",
    "#len(contours)"
   ]
  },
  {
   "cell_type": "markdown",
   "metadata": {},
   "source": [
    "# Naive Approach"
   ]
  },
  {
   "cell_type": "code",
   "execution_count": 10,
   "metadata": {},
   "outputs": [],
   "source": [
    "def naive_gcode(image, threshold):\n",
    "    data = img_to_gray(import_image(image))\n",
    "    \n",
    "    num_rows = len(data)\n",
    "    num_cols = len(data[0])\n",
    "    print(num_rows)\n",
    "    print(num_cols)\n",
    "    \n",
    "    lines = []\n",
    "    cols = []\n",
    "                \n",
    "    for row in range(0, num_rows):\n",
    "        cols = []\n",
    "        border = True\n",
    "        for col in range(0, num_cols): \n",
    "            if data[row][col] > threshold:\n",
    "                if border == False:\n",
    "                    cols.append(col - 1)\n",
    "                    border = True\n",
    "            elif data[row][col] < threshold and border == True:\n",
    "                cols.append(col)\n",
    "                border = False\n",
    "            elif data[row][col] < threshold and col == num_cols-1:\n",
    "                cols.append(col)\n",
    "                border = False\n",
    "        if len(cols) % 2 != 0:\n",
    "            cols.append(cols[len(cols)-1])\n",
    "        lines.append(cols)\n",
    "    \n",
    "    #Display coords\n",
    "    i=0\n",
    "    points = []\n",
    "    for row in range(0, num_rows):\n",
    "        for point in lines[i]:\n",
    "            points.append([i, point])\n",
    "        i += 1\n",
    "    \n",
    "    xs = []\n",
    "    ys = []\n",
    "    for coord in points:\n",
    "        xs.append(coord[1])\n",
    "        ys.append(coord[0])\n",
    "    plt.scatter(xs, ys, s = 1)\n",
    "    plt.show()\n",
    "    \n",
    "    lines.reverse()\n",
    "    return lines"
   ]
  },
  {
   "cell_type": "code",
   "execution_count": 11,
   "metadata": {},
   "outputs": [],
   "source": [
    "#naive_gcode(\"Images/gray_test.png\", 0.7)"
   ]
  },
  {
   "cell_type": "code",
   "execution_count": 12,
   "metadata": {},
   "outputs": [],
   "source": [
    "def naive_to_gcode(lines):\n",
    "    all_instructions = []\n",
    "    num_rows = len(lines)\n",
    "    to_coords = lambda coords: {'X': coords[0], 'Y': coords[1]}\n",
    "    i = 0\n",
    "    for row in range(0, num_rows):\n",
    "        for col in lines[row]:\n",
    "            if i == 0:\n",
    "                gcode = GCodeRapidMove(**to_coords([col, row]))\n",
    "                print(\"%s\" % gcode)\n",
    "                i=1\n",
    "            else:\n",
    "                gcode = GCodeLinearMove(**to_coords([col, row]))\n",
    "                print(\"%s\" % gcode)\n",
    "                i=0\n",
    "            all_instructions.append(gcode)\n",
    "    print(all_instructions)\n",
    "    return all_instructions"
   ]
  },
  {
   "cell_type": "code",
   "execution_count": 13,
   "metadata": {},
   "outputs": [],
   "source": [
    "#naive_to_gcode(naive_gcode(\"Images/gray_test.png\", 0.7))"
   ]
  },
  {
   "cell_type": "markdown",
   "metadata": {},
   "source": [
    "# Marching Squares"
   ]
  },
  {
   "cell_type": "code",
   "execution_count": 14,
   "metadata": {},
   "outputs": [],
   "source": [
    "def get_case(x):\n",
    "    return {\n",
    "        str([0,0,0,0]): 0,\n",
    "        str([0,0,1,0]): 1,\n",
    "        str([0,0,0,1]): 2,\n",
    "        str([0,0,1,1]): 3,\n",
    "        str([0,1,0,0]): 4,\n",
    "        str([0,1,1,0]): 5,\n",
    "        str([0,1,0,1]): 6,\n",
    "        str([0,1,1,1]): 7,\n",
    "        str([1,0,0,0]): 8,\n",
    "        str([1,0,1,0]): 9,\n",
    "        str([1,0,0,1]): 10,\n",
    "        str([1,0,1,1]): 11,\n",
    "        str([1,1,0,0]): 12,\n",
    "        str([1,1,1,0]): 13,\n",
    "        str([1,1,0,1]): 14,\n",
    "        str([1,1,1,1]): 15,\n",
    "    }.get(x, 16)"
   ]
  },
  {
   "cell_type": "code",
   "execution_count": 15,
   "metadata": {},
   "outputs": [],
   "source": [
    "#get_case(str([0,0,0,0]))"
   ]
  },
  {
   "cell_type": "code",
   "execution_count": 16,
   "metadata": {},
   "outputs": [],
   "source": [
    "def check_corner(data, row, col, threshold):\n",
    "    corner = 0\n",
    "    if row >= len(data) and col >= len(data[0]):\n",
    "        row = len(data)-1\n",
    "        col = len(data[0])-1\n",
    "    elif col >= len(data[0]):\n",
    "        col = len(data[0])-1\n",
    "    elif row >= len(data):\n",
    "        row = len(data)-1\n",
    "    else:\n",
    "        if data[row][col] > threshold:\n",
    "            corner = 1\n",
    "        else:\n",
    "            corner = 0\n",
    "    return corner"
   ]
  },
  {
   "cell_type": "code",
   "execution_count": 17,
   "metadata": {},
   "outputs": [],
   "source": [
    "def check_case(data, row_num, col_num, increment, threshold):\n",
    "    corners = []\n",
    "    for row, col in [(row_num+i,col_num+j) for i in (0,increment) for j in (0,increment)]:\n",
    "        if row < len(data) and col < len(data[0]):\n",
    "            corners.append(check_corner(data, row, col, threshold))\n",
    "        elif row >= len(data) and col >= len(data[0]):\n",
    "            row = len(data)-1\n",
    "            col = len(data[0])-1\n",
    "            corners.append(check_corner(data, row, col, threshold))\n",
    "        elif row >= len(data):\n",
    "            row = len(data)-1\n",
    "            corners.append(check_corner(data, row, col, threshold))\n",
    "        elif col >= len(data[0]):\n",
    "            col = len(data[0])-1\n",
    "            corners.append(check_corner(data, row, col, threshold))\n",
    "    return get_case(str(corners))"
   ]
  },
  {
   "cell_type": "code",
   "execution_count": 18,
   "metadata": {},
   "outputs": [],
   "source": [
    "def calc_interpolant(val1, val2, threshold, increment):\n",
    "    interpolant = (val1-threshold)/(val1-val2)\n",
    "    return np.round(interpolant*5)"
   ]
  },
  {
   "cell_type": "code",
   "execution_count": 19,
   "metadata": {},
   "outputs": [],
   "source": [
    "def check_square(data, row_num, col_num, increment, threshold):\n",
    "    case = check_case(data, row_num, col_num, increment, threshold)\n",
    "    corners = []\n",
    "    contour = []\n",
    "    for row, col in [(row_num+i,col_num+j) for i in (0,increment) for j in (0,increment)]:\n",
    "        if row >= len(data) and col >= len(data[0]):\n",
    "            row = len(data)-1\n",
    "            col = len(data[0])-1\n",
    "        elif col >= len(data[0]):\n",
    "            col = len(data[0])-1\n",
    "        elif row >= len(data):\n",
    "            row = len(data)-1\n",
    "        corners.append([row, col])\n",
    "    if case == 1 or case == 14:\n",
    "        left_interpolant = calc_interpolant(data[corners[0][0]][corners[0][1]], data[corners[2][0]][corners[2][1]], threshold, increment)\n",
    "        bottom_interpolant = calc_interpolant(data[corners[2][0]][corners[2][1]], data[corners[3][0]][corners[3][1]], threshold, increment)\n",
    "        contour.append([corners[0][0] + left_interpolant, corners[0][1], corners[2][0], corners[2][1] + bottom_interpolant])\n",
    "    elif case == 2 or case == 13:\n",
    "        bottom_interpolant = calc_interpolant(data[corners[2][0]][corners[2][1]], data[corners[3][0]][corners[3][1]], threshold, increment)\n",
    "        right_interpolant = calc_interpolant(data[corners[1][0]][corners[1][1]], data[corners[3][0]][corners[3][1]], threshold, increment)\n",
    "        contour.append([corners[2][0], corners[2][1] + bottom_interpolant, corners[1][0] + right_interpolant, corners[1][1]])\n",
    "    elif case == 3 or case == 12:\n",
    "        left_interpolant = calc_interpolant(data[corners[0][0]][corners[0][1]], data[corners[2][0]][corners[2][1]], threshold, increment)\n",
    "        right_interpolant = calc_interpolant(data[corners[1][0]][corners[1][1]], data[corners[3][0]][corners[3][1]], threshold, increment)\n",
    "        contour.append([corners[0][0] + left_interpolant, corners[0][1], corners[1][0] + right_interpolant, corners[1][1]])\n",
    "    elif case == 4 or case == 11:\n",
    "        top_interpolant = calc_interpolant(data[corners[0][0]][corners[0][1]], data[corners[1][0]][corners[1][1]], threshold, increment)\n",
    "        right_interpolant = calc_interpolant(data[corners[1][0]][corners[1][1]], data[corners[3][0]][corners[3][1]], threshold, increment)\n",
    "        contour.append([corners[0][0], corners[0][1] + top_interpolant, corners[1][0] + right_interpolant, corners[1][1]])\n",
    "    elif case == 5 or case == 10:\n",
    "        top_interpolant = calc_interpolant(data[corners[0][0]][corners[0][1]], data[corners[1][0]][corners[1][1]], threshold, increment)\n",
    "        left_interpolant = calc_interpolant(data[corners[0][0]][corners[0][1]], data[corners[2][0]][corners[2][1]], threshold, increment)\n",
    "        bottom_interpolant = calc_interpolant(data[corners[2][0]][corners[2][1]], data[corners[3][0]][corners[3][1]], threshold, increment)\n",
    "        right_interpolant = calc_interpolant(data[corners[1][0]][corners[1][1]], data[corners[3][0]][corners[3][1]], threshold, increment)\n",
    "        contour.append([corners[0][0], corners[0][1] + top_interpolant, corners[0][0] + left_interpolant, corners[0][1]])\n",
    "        contour.append([corners[2][0], corners[2][1] + bottom_interpolant, corners[1][0] + right_interpolant, corners[1][1]])\n",
    "    elif case == 6 or case == 9:\n",
    "        top_interpolant = calc_interpolant(data[corners[0][0]][corners[0][1]], data[corners[1][0]][corners[1][1]], threshold, increment)\n",
    "        bottom_interpolant = calc_interpolant(data[corners[2][0]][corners[2][1]], data[corners[3][0]][corners[3][1]], threshold, increment)\n",
    "        contour.append([corners[0][0], corners[0][1] + top_interpolant, corners[2][0], corners[2][1] + bottom_interpolant])\n",
    "    elif case == 7 or case == 8:\n",
    "        top_interpolant = calc_interpolant(data[corners[0][0]][corners[0][1]], data[corners[1][0]][corners[1][1]], threshold, increment)\n",
    "        left_interpolant = calc_interpolant(data[corners[0][0]][corners[0][1]], data[corners[2][0]][corners[2][1]], threshold, increment)\n",
    "        contour.append([corners[0][0], corners[0][1] + top_interpolant, corners[0][0] + left_interpolant, corners[0][1]])\n",
    "    return contour"
   ]
  },
  {
   "cell_type": "code",
   "execution_count": 20,
   "metadata": {},
   "outputs": [],
   "source": [
    "#print(check_case(gray_img, 145, 140, 5, 0.7))\n",
    "#print(check_square(gray_img, 145, 140, 5, 0.7))"
   ]
  },
  {
   "cell_type": "code",
   "execution_count": 21,
   "metadata": {},
   "outputs": [],
   "source": [
    "def get_reference_squares(data, threshold, increment):#\n",
    "    references = []\n",
    "    num_rows = len(data)\n",
    "    num_cols = len(data[0])\n",
    "    important_squares = []\n",
    "    print(str(num_rows) + \"x\" + str(num_cols))\n",
    "    for row in range(0, num_rows, increment):\n",
    "        for col in range(0, num_cols, increment):\n",
    "            if check_case(data, row, col, increment, threshold) != 15 and check_case(data, row, col, increment, threshold) != 0:\n",
    "                important_squares.append([row, col])\n",
    "    plt.imshow(data, cmap=\"gray\")\n",
    "    xs = [x[1] for x in important_squares]\n",
    "    ys = [x[0] for x in important_squares]\n",
    "    plt.scatter(xs, ys, 0.5)\n",
    "    plt.show()\n",
    "    return important_squares"
   ]
  },
  {
   "cell_type": "code",
   "execution_count": 22,
   "metadata": {},
   "outputs": [],
   "source": [
    "#get_reference_squares(np.flipud(img_to_gray(import_image(\"Images/smile.png\"))), .5, 5)"
   ]
  },
  {
   "cell_type": "code",
   "execution_count": 23,
   "metadata": {},
   "outputs": [],
   "source": [
    "def get_ms_contours(filename, threshold, increment):\n",
    "    data = np.flipud(img_to_gray(import_image(filename)))\n",
    "    references = get_reference_squares(data, threshold, increment)\n",
    "    x = []\n",
    "    y = []\n",
    "    squares = []\n",
    "    contours = []\n",
    "    for coord in references:\n",
    "        square = check_square(data, coord[0], coord[1], increment, threshold)\n",
    "        print(square)\n",
    "        contours.append(square)\n",
    "    return contours"
   ]
  },
  {
   "cell_type": "code",
   "execution_count": 24,
   "metadata": {},
   "outputs": [],
   "source": [
    "#print(get_ms_contours(\"Images/gray_test.png\", .7, 5))"
   ]
  },
  {
   "cell_type": "code",
   "execution_count": 25,
   "metadata": {},
   "outputs": [],
   "source": [
    "def ms_to_GCode(squares):\n",
    "    i = 0\n",
    "    all_instructions = []\n",
    "    to_coords = lambda coords: {'X': coords[1], 'Y': coords[0]}\n",
    "    for contours in squares:\n",
    "        for contour in contours:\n",
    "            initial_coords = [contour[0], contour[1]]\n",
    "            final_coords = [contour[2], contour[3]]\n",
    "            initial_coords_gcode = GCodeRapidMove(**to_coords(initial_coords))\n",
    "            final_coords_gcode = GCodeLinearMove(**to_coords(final_coords))\n",
    "            all_instructions.append(initial_coords_gcode)\n",
    "            all_instructions.append(final_coords_gcode)\n",
    "    return all_instructions"
   ]
  },
  {
   "cell_type": "code",
   "execution_count": 26,
   "metadata": {},
   "outputs": [],
   "source": [
    "#gcodes = ms_to_GCode(get_ms_contours(\"Images/dog.jpg\", .7, 5))\n",
    "#print(gcodes)"
   ]
  },
  {
   "cell_type": "markdown",
   "metadata": {},
   "source": [
    "# Output GCODE to file"
   ]
  },
  {
   "cell_type": "code",
   "execution_count": 27,
   "metadata": {},
   "outputs": [],
   "source": [
    "def output_gcode(all_instructions, filename):\n",
    "    File_object = open(filename,\"w\")\n",
    "    for gcode in all_instructions:\n",
    "        print(gcode)\n",
    "        File_object.write(str(gcode) + \";\\n\")\n",
    "    File_object.close()"
   ]
  },
  {
   "cell_type": "code",
   "execution_count": 28,
   "metadata": {},
   "outputs": [],
   "source": [
    "#output_gcode(naive_to_gcode(naive_gcode(\"Images/smile.png\", 0.7)), \"output2.gcode\")"
   ]
  },
  {
   "cell_type": "code",
   "execution_count": 29,
   "metadata": {},
   "outputs": [],
   "source": [
    "#output_gcode(ms_to_GCode(get_ms_contours(\"Images/dog.jpg\", .7, 5)), \"output.gcode\")"
   ]
  },
  {
   "cell_type": "code",
   "execution_count": null,
   "metadata": {},
   "outputs": [],
   "source": []
  }
 ],
 "metadata": {
  "kernelspec": {
   "display_name": "Python 3",
   "language": "python",
   "name": "python3"
  },
  "language_info": {
   "codemirror_mode": {
    "name": "ipython",
    "version": 3
   },
   "file_extension": ".py",
   "mimetype": "text/x-python",
   "name": "python",
   "nbconvert_exporter": "python",
   "pygments_lexer": "ipython3",
   "version": "3.7.6"
  }
 },
 "nbformat": 4,
 "nbformat_minor": 4
}
