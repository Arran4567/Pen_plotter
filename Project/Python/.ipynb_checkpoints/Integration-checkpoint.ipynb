{
 "cells": [
  {
   "cell_type": "code",
   "execution_count": 1,
   "metadata": {},
   "outputs": [],
   "source": [
    "png = __import__(\"PNG_to_GCODE\")\n",
    "dxf = __import__(\"DXF_to_GCODE\")\n",
    "sim = __import__(\"Simulation\")"
   ]
  },
  {
   "cell_type": "code",
   "execution_count": 2,
   "metadata": {},
   "outputs": [],
   "source": [
    "def turtle_setup():\n",
    "    t1 = sim.create_turtle()\n",
    "    sim.close_sim(t1)\n",
    "    return t1"
   ]
  },
  {
   "cell_type": "code",
   "execution_count": 3,
   "metadata": {},
   "outputs": [
    {
     "data": {
      "text/plain": [
       "<turtle.Turtle at 0x285981ef0c8>"
      ]
     },
     "execution_count": 3,
     "metadata": {},
     "output_type": "execute_result"
    }
   ],
   "source": [
    "#turtle_setup()"
   ]
  },
  {
   "cell_type": "code",
   "execution_count": 4,
   "metadata": {},
   "outputs": [],
   "source": [
    "def import_image(filename):\n",
    "    if filename.endswith('.png'):\n",
    "        img = png.import_image(filename)\n",
    "        filetype = \"png\"\n",
    "    elif filename.endswith('.dxf'):\n",
    "        img, doc, msp, group = dxf.get_dxf(filename)\n",
    "        filetype = \"dxf\"\n",
    "    else:\n",
    "        print(\"Please choose a supported file format.\")\n",
    "    return img\n"
   ]
  },
  {
   "cell_type": "code",
   "execution_count": 5,
   "metadata": {},
   "outputs": [],
   "source": [
    "#import_image(\"DXF/knot_005.dxf\")"
   ]
  },
  {
   "cell_type": "code",
   "execution_count": 6,
   "metadata": {},
   "outputs": [],
   "source": [
    "def open_sim(title):\n",
    "    t = sim.resurrect_environment(title)\n",
    "    return t"
   ]
  },
  {
   "cell_type": "code",
   "execution_count": 7,
   "metadata": {},
   "outputs": [],
   "source": [
    "def close_sim(t):\n",
    "    sim.close_sim(t)"
   ]
  },
  {
   "cell_type": "code",
   "execution_count": 8,
   "metadata": {},
   "outputs": [],
   "source": [
    "def calibrate_sim(t, x, y):\n",
    "    sim.set_home(t, x, y)\n",
    "    x_home = x\n",
    "    y_home = y"
   ]
  },
  {
   "cell_type": "code",
   "execution_count": 9,
   "metadata": {},
   "outputs": [],
   "source": [
    "def move_turtle(t, x, y, scale):\n",
    "    sim.move_pos(t, x, y, scale)"
   ]
  },
  {
   "cell_type": "code",
   "execution_count": null,
   "metadata": {},
   "outputs": [],
   "source": [
    "def draw_output(t, gcode, scale):\n",
    "    sim.convert_gcode(t, gcode, scale, x_home, y_home)"
   ]
  },
  {
   "cell_type": "code",
   "execution_count": 10,
   "metadata": {},
   "outputs": [],
   "source": [
    "#t1 = open_sim(\"Calibrate\")\n",
    "#calibrate_sim(t1, -750, -400)\n",
    "#close_sim(t1)"
   ]
  },
  {
   "cell_type": "code",
   "execution_count": 11,
   "metadata": {},
   "outputs": [],
   "source": [
    "def view_dxf(file_path):\n",
    "    fig, doc, msp, group = dxf.get_dxf(file_path)\n",
    "    return fig, doc, msp, group"
   ]
  },
  {
   "cell_type": "code",
   "execution_count": 12,
   "metadata": {},
   "outputs": [],
   "source": [
    "def dxf_generate_gcode(file_path, output_path):\n",
    "    fig, doc, msp, group = view_dxf(file_path)\n",
    "    dxf.output_all_info(msp, output_path)"
   ]
  },
  {
   "cell_type": "code",
   "execution_count": 13,
   "metadata": {},
   "outputs": [],
   "source": [
    "def png_generate_gcode(file_path, accuracy, output_path):\n",
    "    instructions = png.naive_to_gcode(png.naive_gcode(file_path, accuracy))\n",
    "    png.output_gcode(instructions, output_path)"
   ]
  },
  {
   "cell_type": "code",
   "execution_count": 14,
   "metadata": {},
   "outputs": [],
   "source": [
    "#png_generate_gcode(\"Images\\\\dog.jpg\", 0.7, \"output.gcode\")"
   ]
  },
  {
   "cell_type": "code",
   "execution_count": 15,
   "metadata": {},
   "outputs": [],
   "source": [
    "#dxf_generate_gcode(\"DXF\\\\frame.dxf\", \"output.gcode\")"
   ]
  },
  {
   "cell_type": "code",
   "execution_count": null,
   "metadata": {},
   "outputs": [],
   "source": []
  }
 ],
 "metadata": {
  "kernelspec": {
   "display_name": "Python 3",
   "language": "python",
   "name": "python3"
  },
  "language_info": {
   "codemirror_mode": {
    "name": "ipython",
    "version": 3
   },
   "file_extension": ".py",
   "mimetype": "text/x-python",
   "name": "python",
   "nbconvert_exporter": "python",
   "pygments_lexer": "ipython3",
   "version": "3.7.4"
  }
 },
 "nbformat": 4,
 "nbformat_minor": 4
}
