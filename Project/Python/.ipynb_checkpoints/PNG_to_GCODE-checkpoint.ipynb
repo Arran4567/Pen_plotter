{
 "cells": [
  {
   "cell_type": "markdown",
   "metadata": {},
   "source": [
    "# Library Imports"
   ]
  },
  {
   "cell_type": "code",
   "execution_count": 1,
   "metadata": {},
   "outputs": [],
   "source": [
    "import os\n",
    "import sys\n",
    "import skimage \n",
    "import numpy as np\n",
    "import matplotlib.pyplot as plt\n",
    "from pygcode import *\n",
    "from skimage import measure\n",
    "from skimage import io\n",
    "from skimage import data\n",
    "from skimage.color import rgb2gray\n",
    "from PIL import Image"
   ]
  },
  {
   "cell_type": "markdown",
   "metadata": {},
   "source": [
    "# Import PNG file"
   ]
  },
  {
   "cell_type": "code",
   "execution_count": 2,
   "metadata": {},
   "outputs": [],
   "source": [
    "class Contour:\n",
    "    def __init__(self, start_row, start_col, end_row, end_col):\n",
    "        self.start_row = start_row\n",
    "        self.start_col = start_col\n",
    "        self.end_row = end_row\n",
    "        self.end_col = end_col\n",
    "        \n",
    "    def get_start(self):\n",
    "        return self.start_row, self.start_col\n",
    "    \n",
    "    def get_end(self):\n",
    "        return self.end_row, self.end_col\n",
    "        \n",
    "    def set_start(self, r, c):\n",
    "        self.start_row = r\n",
    "        self.start_col = c\n",
    "    \n",
    "    def set_end(self, r, c):\n",
    "        self.end_row = r\n",
    "        self.end_col = c"
   ]
  },
  {
   "cell_type": "code",
   "execution_count": 3,
   "metadata": {},
   "outputs": [],
   "source": [
    "class Square:\n",
    "    def __init__(self, top_left, contours):\n",
    "        self.case = case\n",
    "        self.top_left = top_left\n",
    "        self.contours = contours"
   ]
  },
  {
   "cell_type": "code",
   "execution_count": 4,
   "metadata": {},
   "outputs": [],
   "source": [
    "def import_image(path):\n",
    "    file = os.path.join(path)\n",
    "    img = \"\"\n",
    "    try:\n",
    "        img = io.imread(file)\n",
    "    except:\n",
    "        print(\"File not found\")\n",
    "    return img"
   ]
  },
  {
   "cell_type": "code",
   "execution_count": 5,
   "metadata": {
    "scrolled": true
   },
   "outputs": [],
   "source": [
    "#image = import_image(\"Images/dog.jpg\")"
   ]
  },
  {
   "cell_type": "markdown",
   "metadata": {},
   "source": [
    "# Grayscale Image"
   ]
  },
  {
   "cell_type": "code",
   "execution_count": 6,
   "metadata": {},
   "outputs": [],
   "source": [
    "def img_to_gray(original):\n",
    "    grayscale = rgb2gray(original)\n",
    "    fig, axes = plt.subplots(1, 1, figsize=(4, 4))\n",
    "\n",
    "    axes.imshow(grayscale, cmap=plt.cm.gray)\n",
    "    \n",
    "    fig.tight_layout()\n",
    "    return grayscale"
   ]
  },
  {
   "cell_type": "code",
   "execution_count": 7,
   "metadata": {
    "scrolled": true
   },
   "outputs": [],
   "source": [
    "#gray_img = img_to_gray(import_image(\"Images/dog.jpg\"))"
   ]
  },
  {
   "cell_type": "markdown",
   "metadata": {},
   "source": [
    "# Find Contours"
   ]
  },
  {
   "cell_type": "code",
   "execution_count": 8,
   "metadata": {},
   "outputs": [],
   "source": [
    "def find_contours(image, accuracy):\n",
    "    img = np.flipud(image)\n",
    "    \n",
    "    # Find contours at a constant value defined by parameter accuracy\n",
    "    contours = measure.find_contours(img, accuracy)\n",
    "    \n",
    "    # Display the image and plot all contours found\n",
    "    fig, ax = plt.subplots()\n",
    "\n",
    "    for n, contour in enumerate(contours):\n",
    "        ax.plot(contour[:, 1], contour[:, 0], linewidth=1)\n",
    "\n",
    "    ax.axis('image')\n",
    "    plt.show()\n",
    "    print(contours)\n",
    "    return contours"
   ]
  },
  {
   "cell_type": "code",
   "execution_count": 9,
   "metadata": {},
   "outputs": [],
   "source": [
    "#contours = find_contours(gray_img, .3)\n",
    "#len(contours)"
   ]
  },
  {
   "cell_type": "markdown",
   "metadata": {},
   "source": [
    "# Naive Approach"
   ]
  },
  {
   "cell_type": "code",
   "execution_count": 10,
   "metadata": {},
   "outputs": [],
   "source": [
    "def naive_gcode(image, threshold):\n",
    "    data = img_to_gray(import_image(image))\n",
    "    \n",
    "    num_rows = len(data)\n",
    "    num_cols = len(data[0])\n",
    "    print(num_rows)\n",
    "    print(num_cols)\n",
    "    \n",
    "    lines = []\n",
    "    cols = []\n",
    "                \n",
    "    for row in range(0, num_rows):\n",
    "        cols = []\n",
    "        border = True\n",
    "        for col in range(0, num_cols): \n",
    "            if data[row][col] > threshold:\n",
    "                if border == False:\n",
    "                    cols.append(col - 1)\n",
    "                    border = True\n",
    "            elif data[row][col] < threshold and border == True:\n",
    "                cols.append(col)\n",
    "                border = False\n",
    "            elif data[row][col] < threshold and col == num_cols-1:\n",
    "                cols.append(col)\n",
    "                border = False\n",
    "        if len(cols) % 2 != 0:\n",
    "            cols.append(cols[len(cols)-1])\n",
    "        lines.append(cols)\n",
    "    \n",
    "    #Display coords\n",
    "    i=0\n",
    "    points = []\n",
    "    for row in range(0, num_rows):\n",
    "        for point in lines[i]:\n",
    "            points.append([i, point])\n",
    "        i += 1\n",
    "    \n",
    "    xs = []\n",
    "    ys = []\n",
    "    for coord in points:\n",
    "        xs.append(coord[1])\n",
    "        ys.append(coord[0])\n",
    "    plt.scatter(xs, ys, s = 1)\n",
    "    plt.show()\n",
    "    \n",
    "    lines.reverse()\n",
    "    return lines"
   ]
  },
  {
   "cell_type": "code",
   "execution_count": 11,
   "metadata": {},
   "outputs": [],
   "source": [
    "#naive_gcode(\"Images/gray_test.png\", 0.7)"
   ]
  },
  {
   "cell_type": "code",
   "execution_count": 12,
   "metadata": {},
   "outputs": [],
   "source": [
    "def naive_to_gcode(lines):\n",
    "    all_instructions = []\n",
    "    num_rows = len(lines)\n",
    "    to_coords = lambda coords: {'X': coords[0], 'Y': coords[1]}\n",
    "    i = 0\n",
    "    for row in range(0, num_rows):\n",
    "        for col in lines[row]:\n",
    "            if i == 0:\n",
    "                gcode = GCodeRapidMove(**to_coords([col, row]))\n",
    "                print(\"%s\" % gcode)\n",
    "                i=1\n",
    "            else:\n",
    "                gcode = GCodeLinearMove(**to_coords([col, row]))\n",
    "                print(\"%s\" % gcode)\n",
    "                i=0\n",
    "            all_instructions.append(gcode)\n",
    "    return all_instructions"
   ]
  },
  {
   "cell_type": "code",
   "execution_count": 13,
   "metadata": {},
   "outputs": [],
   "source": [
    "#naive_to_gcode(naive_gcode(\"Images/gray_test.png\", 0.7))"
   ]
  },
  {
   "cell_type": "markdown",
   "metadata": {},
   "source": [
    "# Marching Squares"
   ]
  },
  {
   "cell_type": "code",
   "execution_count": 14,
   "metadata": {},
   "outputs": [],
   "source": [
    "def get_reference_squares(filename, threshold, increment):\n",
    "    data = img_to_gray(import_image(filename))\n",
    "    references = []\n",
    "    num_rows = len(data)\n",
    "    num_cols = len(data[0])\n",
    "    important_squares = []\n",
    "    print(str(num_rows) + \"x\" + str(num_cols))\n",
    "    for row in range(0, num_rows, increment):\n",
    "        for col in range(0, num_cols, increment):\n",
    "            if data[row][col] < threshold:\n",
    "                important_squares.append([row, col])\n",
    "    plt.imshow(data, cmap=\"gray\")\n",
    "    plt.show()\n",
    "    return important_squares"
   ]
  },
  {
   "cell_type": "code",
   "execution_count": 15,
   "metadata": {},
   "outputs": [],
   "source": [
    "#get_reference_squares(\"Images/dog.jpg\", .5, 5)"
   ]
  },
  {
   "cell_type": "code",
   "execution_count": 16,
   "metadata": {},
   "outputs": [],
   "source": [
    "def get_case(x):\n",
    "    return {\n",
    "        str([0,0,0,0]): 0,\n",
    "        str([0,0,1,0]): 1,\n",
    "        str([0,0,0,1]): 2,\n",
    "        str([0,0,1,1]): 3,\n",
    "        str([0,1,0,0]): 4,\n",
    "        str([0,1,1,0]): 5,\n",
    "        str([0,1,0,1]): 6,\n",
    "        str([0,1,1,1]): 7,\n",
    "        str([1,0,0,0]): 8,\n",
    "        str([1,0,1,0]): 9,\n",
    "        str([1,0,0,1]): 10,\n",
    "        str([1,0,1,1]): 11,\n",
    "        str([1,1,0,0]): 12,\n",
    "        str([1,1,1,0]): 13,\n",
    "        str([1,1,0,1]): 14,\n",
    "        str([1,1,1,1]): 15,\n",
    "    }.get(x, 16)"
   ]
  },
  {
   "cell_type": "code",
   "execution_count": 17,
   "metadata": {},
   "outputs": [],
   "source": [
    "#get_case(str([0,0,0,0]))"
   ]
  },
  {
   "cell_type": "code",
   "execution_count": 18,
   "metadata": {},
   "outputs": [],
   "source": [
    "def check_corner(data, row, col, threshold):\n",
    "    corner = 0\n",
    "    if data[row][col] > threshold:\n",
    "        corner = 1\n",
    "    else:\n",
    "        corner = 0\n",
    "    return corner"
   ]
  },
  {
   "cell_type": "code",
   "execution_count": 19,
   "metadata": {},
   "outputs": [],
   "source": [
    "def check_case(data, row_num, col_num, increment, threshold):\n",
    "    corners = []\n",
    "    for row, col in [(row_num+i,col_num+j) for i in (0,increment) for j in (0,increment)]:\n",
    "        if row < len(data) and col < len(data[0]):\n",
    "            corners.append(check_corner(data, row, col, threshold))\n",
    "        elif row > len(data):\n",
    "            row = len(data)-1\n",
    "            corners.append(check_corner(data, row, col, threshold))\n",
    "        elif col > len(data[0]):\n",
    "            col = len(data[0])-1\n",
    "            corners.append(check_corner(data, row, col, threshold))\n",
    "    return get_case(str(corners))"
   ]
  },
  {
   "cell_type": "code",
   "execution_count": 20,
   "metadata": {},
   "outputs": [],
   "source": [
    "def check_square(row_num, col_num, data, increment, threshold):\n",
    "    corners = []\n",
    "    contours = []\n",
    "    case = 0\n",
    "    for row, col in [(row_num+i,col_num+j) for i in (0,increment) for j in (0,increment)]:\n",
    "        try:\n",
    "            #This is for adjacent squares in bounds\n",
    "            if data[row][col] > threshold:\n",
    "                interpolant = np.round((data[row_num][col_num]/data[row][col])*increment)\n",
    "                if row > row_num:\n",
    "                    contours.append([row_num + interpolant, col_num])\n",
    "                elif row < row_num:\n",
    "                    contours.append([row_num - interpolant, col_num])\n",
    "                elif col > col_num:\n",
    "                    contours.append([row_num, col_num + interpolant])\n",
    "                elif col < col_num:\n",
    "                    contours.append([row_num, col_num - interpolant])\n",
    "                else:\n",
    "                    print(\"Something went wrong\")\n",
    "        except IndexError:\n",
    "             #This is for if the adjacent square is out of bounds\n",
    "            print(row)\n",
    "            print(col)\n",
    "            contours.append([row, col])\n",
    "            print(\"This cell is out of bounds\")\n",
    "            print(\"Don't worry this may happen, but needs to be dealt with.\")\n",
    "            print(\"-\"*40)\n",
    "        except ZeroDivisionError:\n",
    "             #This is for if the adjacent square is Pure black\n",
    "            print(row)\n",
    "            print(col)\n",
    "            print(\"This SHOULD never happen\")\n",
    "            print(\"-\"*40)\n",
    "        except:\n",
    "            #This is to catch any other error\n",
    "            print(\"Unexpected error:\", sys.exc_info()[0])\n",
    "            print(\"-\"*40)\n",
    "        case = get_case(str(corners))\n",
    "        res = [] \n",
    "        for i in contours:\n",
    "            if i not in res:\n",
    "                res.append(i)\n",
    "    return res"
   ]
  },
  {
   "cell_type": "code",
   "execution_count": 21,
   "metadata": {},
   "outputs": [],
   "source": [
    "#print(check_square(25, 190, gray_img, 5, 0.5))\n",
    "#check_case(gray_img, 25, 190, 5, 0.5)"
   ]
  },
  {
   "cell_type": "code",
   "execution_count": 22,
   "metadata": {},
   "outputs": [],
   "source": [
    "def get_ms_contours(filename, threshold, increment, marker_size):\n",
    "    refrences = get_reference_squares(filename, threshold, increment)\n",
    "    x = []\n",
    "    y = []\n",
    "    data = img_to_gray(import_image(filename))\n",
    "    squares = []\n",
    "    contours = []\n",
    "    for coord in refrences:\n",
    "        contours.append([check_case(data, coord[0], coord[1], increment, threshold), check_square(coord[0], coord[1], data, increment, threshold)])\n",
    "    for contour in contours:\n",
    "        case = contour[0]\n",
    "        coords = contour[1]\n",
    "        for coord in coords:\n",
    "            x.append(coord[1])\n",
    "            y.append(coord[0])\n",
    "    plt.scatter(x, y, s = marker_size)\n",
    "    return contours"
   ]
  },
  {
   "cell_type": "code",
   "execution_count": 23,
   "metadata": {},
   "outputs": [],
   "source": [
    "#get_ms_contours(\"Images/gray_test.png\", .7, 5, 5)"
   ]
  },
  {
   "cell_type": "markdown",
   "metadata": {},
   "source": [
    "# Define GCODE"
   ]
  },
  {
   "cell_type": "code",
   "execution_count": 24,
   "metadata": {},
   "outputs": [],
   "source": [
    "def get_GCode(contours):\n",
    "    i = 0\n",
    "    all_instructions = []\n",
    "    to_coords = lambda coords: {'X': coords[1], 'Y': coords[0]}\n",
    "    for coords in contours:\n",
    "        if i == 0:\n",
    "            gcode = GCodeRapidMove(**to_coords(coords))\n",
    "            print(\"%s\" % gcode)\n",
    "            i=1\n",
    "        else:\n",
    "            gcode = GCodeLinearMove(**to_coords(coords))\n",
    "            print(\"%s\" % gcode)\n",
    "            i=0\n",
    "        all_instructions.append(gcode)\n",
    "        print(\"-\" * 40)\n",
    "    return all_instructions"
   ]
  },
  {
   "cell_type": "code",
   "execution_count": 25,
   "metadata": {},
   "outputs": [],
   "source": [
    "#gcodes = get_GCode(get_ms_contours(\"Images/gray_test.png\", .7, 5, 1))"
   ]
  },
  {
   "cell_type": "markdown",
   "metadata": {},
   "source": [
    "# Output GCODE to file"
   ]
  },
  {
   "cell_type": "code",
   "execution_count": 26,
   "metadata": {},
   "outputs": [],
   "source": [
    "def output_gcode(all_instructions, filename):\n",
    "    File_object = open(filename,\"w\")\n",
    "    for gcode in all_instructions:\n",
    "        print(gcode)\n",
    "        File_object.write(str(gcode) + \";\\n\")\n",
    "    File_object.close()"
   ]
  },
  {
   "cell_type": "code",
   "execution_count": 27,
   "metadata": {},
   "outputs": [],
   "source": [
    "#output_gcode(naive_to_gcode(naive_gcode(\"Images/smile.png\", 0.7)), \"output2.gcode\")"
   ]
  },
  {
   "cell_type": "code",
   "execution_count": 28,
   "metadata": {},
   "outputs": [],
   "source": [
    "#output_gcode(get_GCode(get_ms_contours(\"Images/gray_test.png\", .7, 5, 1)), \"output4.gcode\")"
   ]
  },
  {
   "cell_type": "code",
   "execution_count": null,
   "metadata": {},
   "outputs": [],
   "source": []
  }
 ],
 "metadata": {
  "kernelspec": {
   "display_name": "Python 3",
   "language": "python",
   "name": "python3"
  },
  "language_info": {
   "codemirror_mode": {
    "name": "ipython",
    "version": 3
   },
   "file_extension": ".py",
   "mimetype": "text/x-python",
   "name": "python",
   "nbconvert_exporter": "python",
   "pygments_lexer": "ipython3",
   "version": "3.7.6"
  }
 },
 "nbformat": 4,
 "nbformat_minor": 4
}
