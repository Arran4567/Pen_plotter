{
 "cells": [
  {
   "cell_type": "code",
   "execution_count": 1,
   "metadata": {},
   "outputs": [],
   "source": [
    "#Imports the functions from the specified files\n",
    "png = __import__(\"PNG_to_GCODE\")\n",
    "dxf = __import__(\"DXF_to_GCODE\")\n",
    "sim = __import__(\"Simulation\")"
   ]
  },
  {
   "cell_type": "code",
   "execution_count": 2,
   "metadata": {},
   "outputs": [],
   "source": [
    "#Initial turtle setup\n",
    "def turtle_setup():\n",
    "    t1 = sim.create_turtle()\n",
    "    sim.close_sim(t1)\n",
    "    return t1"
   ]
  },
  {
   "cell_type": "code",
   "execution_count": 3,
   "metadata": {},
   "outputs": [],
   "source": [
    "#t1 = turtle_setup()"
   ]
  },
  {
   "cell_type": "code",
   "execution_count": 6,
   "metadata": {},
   "outputs": [],
   "source": [
    "#Reopens the environment after it's been closed\n",
    "def open_sim(title):\n",
    "    t = sim.resurrect_environment(title)\n",
    "    return t"
   ]
  },
  {
   "cell_type": "code",
   "execution_count": 7,
   "metadata": {},
   "outputs": [],
   "source": [
    "#Closes the environment\n",
    "def close_sim(t):\n",
    "    sim.close_sim(t)"
   ]
  },
  {
   "cell_type": "code",
   "execution_count": 8,
   "metadata": {},
   "outputs": [],
   "source": [
    "#Sets the home location of the turtle\n",
    "def calibrate_sim(t, x, y):\n",
    "    sim.set_home(t, x, y)"
   ]
  },
  {
   "cell_type": "code",
   "execution_count": 9,
   "metadata": {},
   "outputs": [],
   "source": [
    "#Moves the turtle to the specified co-ordinates without drawing\n",
    "def move_turtle(t, x, y, scale):\n",
    "    sim.move_pos(t, x, y, scale)"
   ]
  },
  {
   "cell_type": "code",
   "execution_count": 10,
   "metadata": {},
   "outputs": [],
   "source": [
    "#Moves the turtle to the specified co-ordinates while drawing\n",
    "def draw_output(t, gcode, scale):\n",
    "    sim.convert_gcode(t, gcode, scale)\n",
    "    return True"
   ]
  },
  {
   "cell_type": "code",
   "execution_count": 11,
   "metadata": {},
   "outputs": [],
   "source": [
    "#t1 = open_sim(\"Calibrate\")\n",
    "#calibrate_sim(t1, -750, -400)\n",
    "#close_sim(t1)"
   ]
  },
  {
   "cell_type": "code",
   "execution_count": 12,
   "metadata": {},
   "outputs": [],
   "source": [
    "#Generates a preview of the specified dxf file\n",
    "def view_dxf(file_path):\n",
    "    fig, doc, msp, group = dxf.get_dxf(file_path)\n",
    "    return fig, doc, msp, group"
   ]
  },
  {
   "cell_type": "code",
   "execution_count": 13,
   "metadata": {},
   "outputs": [],
   "source": [
    "#Generates gcode from the specified dxf file\n",
    "def dxf_generate_gcode(file_path, output_path):\n",
    "    fig, doc, msp, group = view_dxf(file_path)\n",
    "    dxf.output_all_info(msp, output_path)"
   ]
  },
  {
   "cell_type": "code",
   "execution_count": 14,
   "metadata": {},
   "outputs": [],
   "source": [
    "#Generates gcode from the specified image file\n",
    "def png_generate_gcode(file_path, accuracy, output_path, algorithm):\n",
    "    if algorithm:\n",
    "        instructions = png.naive_to_gcode(png.naive_gcode(file_path, accuracy))\n",
    "    else:\n",
    "        instructions = png.ms_to_GCode(png.get_ms_contours(file_path, accuracy, 5))\n",
    "    png.output_gcode(instructions, output_path)"
   ]
  },
  {
   "cell_type": "code",
   "execution_count": 15,
   "metadata": {},
   "outputs": [],
   "source": [
    "#png_generate_gcode(\"Images\\\\dog.jpg\", 0.7, \"output.gcode\", False)"
   ]
  },
  {
   "cell_type": "code",
   "execution_count": 16,
   "metadata": {},
   "outputs": [],
   "source": [
    "#dxf_generate_gcode(\"DXF\\\\frame.dxf\", \"output.gcode\")\n",
    "#t1 = open_sim(\"Click on the screen to close when finished.\")\n",
    "#draw_output(t1, \"output.gcode\", 1)"
   ]
  },
  {
   "cell_type": "code",
   "execution_count": 17,
   "metadata": {},
   "outputs": [],
   "source": [
    "#Sets the stop global variable in simulation to true\n",
    "def stop_sim():\n",
    "    sim.set_stop(True)"
   ]
  }
 ],
 "metadata": {
  "kernelspec": {
   "display_name": "Python 3",
   "language": "python",
   "name": "python3"
  },
  "language_info": {
   "codemirror_mode": {
    "name": "ipython",
    "version": 3
   },
   "file_extension": ".py",
   "mimetype": "text/x-python",
   "name": "python",
   "nbconvert_exporter": "python",
   "pygments_lexer": "ipython3",
   "version": "3.7.6"
  }
 },
 "nbformat": 4,
 "nbformat_minor": 4
}
